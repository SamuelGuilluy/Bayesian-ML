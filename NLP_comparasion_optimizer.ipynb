{
 "cells": [
  {
   "cell_type": "markdown",
   "metadata": {},
   "source": [
    "## Requirements "
   ]
  },
  {
   "cell_type": "code",
   "execution_count": 1,
   "metadata": {
    "colab": {
     "base_uri": "https://localhost:8080/",
     "height": 221
    },
    "colab_type": "code",
    "id": "kmulxuFRwfU0",
    "outputId": "889f13b7-9a25-4ae5-e65c-e9a3fd93caed"
   },
   "outputs": [],
   "source": [
    "#!pip install torch\n",
    "#!pip install torchtext==0.5.0\n",
    "#%matplotlib inline"
   ]
  },
  {
   "cell_type": "markdown",
   "metadata": {
    "colab_type": "text",
    "id": "GJuggEAgwfVA"
   },
   "source": [
    "\n",
    "Text Classification\n",
    "=================\n",
    "\n",
    "\n",
    "Load data with ngrams\n",
    "---------------------\n",
    "\n",
    "A bag of ngrams feature is applied to capture some partial information\n",
    "about the local word order. In practice, bi-gram or tri-gram are applied\n",
    "to provide more benefits as word groups than only one word. An example:\n",
    "\n",
    "::\n",
    "\n",
    "   \"load data with ngrams\"\n",
    "   Bi-grams results: \"load data\", \"data with\", \"with ngrams\"\n",
    "   Tri-grams results: \"load data with\", \"data with ngrams\"\n",
    "\n",
    "``TextClassification`` Dataset supports the ngrams method. By setting\n",
    "ngrams to 2, the example text in the dataset will be a list of single\n",
    "words plus bi-grams string.\n",
    "\n",
    "\n"
   ]
  },
  {
   "cell_type": "code",
   "execution_count": 12,
   "metadata": {
    "colab": {
     "base_uri": "https://localhost:8080/",
     "height": 85
    },
    "colab_type": "code",
    "id": "iyURII9_wfVB",
    "outputId": "f9365816-bdcc-42bc-90c6-d555178b92d7"
   },
   "outputs": [
    {
     "name": "stderr",
     "output_type": "stream",
     "text": [
      "120000lines [00:08, 14272.02lines/s]\n",
      "120000lines [00:16, 7247.12lines/s]\n",
      "7600lines [00:01, 7149.92lines/s]\n"
     ]
    }
   ],
   "source": [
    "import torch\n",
    "import torchtext\n",
    "\n",
    "import pandas as pd\n",
    "\n",
    "import time\n",
    "from torch.utils.data.dataset import random_split\n",
    "\n",
    "import re\n",
    "from torchtext.data.utils import ngrams_iterator\n",
    "from torchtext.data.utils import get_tokenizer\n",
    "\n",
    "from torchcontrib.optim import SWA\n",
    "\n",
    "#from torchtext.datasets import text_classification\n",
    "NGRAMS = 2\n",
    "import os\n",
    "if not os.path.isdir('./.data_sentiment'):\n",
    "    os.mkdir('./.data_sentiment')\n",
    "\n",
    "train_dataset, test_dataset = torchtext.datasets.AG_NEWS(\n",
    "    root='./.data_sentiment', ngrams=NGRAMS, vocab=None)\n",
    "BATCH_SIZE = 16\n",
    "device = torch.device(\"cuda\" if torch.cuda.is_available() else \"cpu\")"
   ]
  },
  {
   "cell_type": "markdown",
   "metadata": {
    "colab_type": "text",
    "id": "jWrWuP94wfVI"
   },
   "source": [
    "Define the model\n",
    "----------------"
   ]
  },
  {
   "cell_type": "code",
   "execution_count": 2,
   "metadata": {
    "colab": {},
    "colab_type": "code",
    "id": "g8on_dNjwfVJ"
   },
   "outputs": [],
   "source": [
    "import torch.nn as nn\n",
    "import torch.nn.functional as F\n",
    "class TextSentiment(nn.Module):\n",
    "    def __init__(self, vocab_size, embed_dim, num_class):\n",
    "        super().__init__()\n",
    "        self.embedding = nn.EmbeddingBag(vocab_size, embed_dim, sparse=True)\n",
    "        self.fc = nn.Linear(embed_dim, num_class)\n",
    "        self.init_weights()\n",
    "\n",
    "    def init_weights(self):\n",
    "        initrange = 0.5\n",
    "        self.embedding.weight.data.uniform_(-initrange, initrange)\n",
    "        self.fc.weight.data.uniform_(-initrange, initrange)\n",
    "        self.fc.bias.data.zero_()\n",
    "        \n",
    "    def forward(self, text, offsets):\n",
    "        embedded = self.embedding(text, offsets)\n",
    "        return self.fc(embedded)"
   ]
  },
  {
   "cell_type": "markdown",
   "metadata": {
    "colab_type": "text",
    "id": "Gg3BTQRGwfVN"
   },
   "source": [
    "Initiate an instance\n",
    "--------------------\n",
    "\n",
    "The AG_NEWS dataset has four labels and therefore the number of classes\n",
    "is four.\n",
    "\n",
    "   1 : World\n",
    "   2 : Sports\n",
    "   3 : Business\n",
    "   4 : Sci/Tec\n",
    "\n",
    "The vocab size is equal to the length of vocab (including single word\n",
    "and ngrams). The number of classes is equal to the number of labels,\n",
    "which is four in AG_NEWS case."
   ]
  },
  {
   "cell_type": "code",
   "execution_count": 3,
   "metadata": {
    "colab": {},
    "colab_type": "code",
    "id": "8WboevFqwfVP"
   },
   "outputs": [],
   "source": [
    "VOCAB_SIZE = len(train_dataset.get_vocab())\n",
    "EMBED_DIM = 32\n",
    "NUN_CLASS = len(train_dataset.get_labels())"
   ]
  },
  {
   "cell_type": "markdown",
   "metadata": {
    "colab_type": "text",
    "id": "omRqNmVWwfVY"
   },
   "source": [
    "Functions used to generate batch\n",
    "--------------------------------\n",
    "\n",
    "\n"
   ]
  },
  {
   "cell_type": "markdown",
   "metadata": {
    "colab_type": "text",
    "id": "HKFLcNLnwfVb"
   },
   "source": [
    "Since the text entries have different lengths, a custom function\n",
    "generate_batch() is used to generate data batches and offsets. The\n",
    "function is passed to ``collate_fn`` in ``torch.utils.data.DataLoader``.\n",
    "The input to ``collate_fn`` is a list of tensors with the size of\n",
    "batch_size, and the ``collate_fn`` function packs them into a\n",
    "mini-batch.\n",
    "\n",
    "The text entries in the original data batch input are packed into a list\n",
    "and concatenated as a single tensor as the input of ``nn.EmbeddingBag``.\n",
    "The offsets is a tensor of delimiters to represent the beginning index\n",
    "of the individual sequence in the text tensor. Label is a tensor saving\n",
    "the labels of individual text entries."
   ]
  },
  {
   "cell_type": "code",
   "execution_count": 4,
   "metadata": {
    "colab": {},
    "colab_type": "code",
    "id": "yPkYS1OfwfVd"
   },
   "outputs": [],
   "source": [
    "def generate_batch(batch):\n",
    "    label = torch.tensor([entry[0] for entry in batch])\n",
    "    text = [entry[1] for entry in batch]\n",
    "    offsets = [0] + [len(entry) for entry in text]\n",
    "    offsets = torch.tensor(offsets[:-1]).cumsum(dim=0)\n",
    "    text = torch.cat(text)\n",
    "    return text, offsets, label"
   ]
  },
  {
   "cell_type": "markdown",
   "metadata": {
    "colab_type": "text",
    "id": "kuqKCuNNwfVj"
   },
   "source": [
    "Define functions to train the model and evaluate results.\n",
    "---------------------------------------------------------\n",
    "\n",
    "\n"
   ]
  },
  {
   "cell_type": "markdown",
   "metadata": {
    "colab_type": "text",
    "id": "IXjhts9awfVn"
   },
   "source": [
    "We use ``DataLoader`` here to load AG_NEWS datasets and send it to the\n",
    "model for training/validation.\n",
    "\n",
    "\n"
   ]
  },
  {
   "cell_type": "code",
   "execution_count": 5,
   "metadata": {
    "colab": {},
    "colab_type": "code",
    "id": "lm7Pvc7AwfVo"
   },
   "outputs": [],
   "source": [
    "from torch.utils.data import DataLoader\n",
    "\n",
    "def train_func(sub_train_,model,optimizer,scheduler,criterion):\n",
    "\n",
    "    train_loss = 0\n",
    "    train_acc = 0\n",
    "    data = DataLoader(sub_train_, batch_size=BATCH_SIZE, shuffle=True,\n",
    "                      collate_fn=generate_batch)\n",
    "    \n",
    "    for i, (text, offsets, cls) in enumerate(data):\n",
    "        optimizer.zero_grad()\n",
    "        text, offsets, cls = text.to(device), offsets.to(device), cls.to(device)\n",
    "        output = model(text, offsets)\n",
    "        loss = criterion(output, cls)\n",
    "        train_loss += loss.item()\n",
    "        loss.backward()\n",
    "        optimizer.step()\n",
    "        train_acc += (output.argmax(1) == cls).sum().item()\n",
    "    if(scheduler != None):\n",
    "        scheduler.step()\n",
    "    \n",
    "    return train_loss / len(sub_train_), train_acc / len(sub_train_)\n",
    "\n",
    "def test(data_,model,optimizer,criterion):\n",
    "    loss = 0\n",
    "    acc = 0\n",
    "    data = DataLoader(data_, batch_size=BATCH_SIZE, collate_fn=generate_batch)\n",
    "    for text, offsets, cls in data:\n",
    "        text, offsets, cls = text.to(device), offsets.to(device), cls.to(device)\n",
    "        with torch.no_grad():\n",
    "            output = model(text, offsets)\n",
    "            loss = criterion(output, cls)\n",
    "            loss += loss.item()\n",
    "            acc += (output.argmax(1) == cls).sum().item()\n",
    "\n",
    "    return loss / len(data_), acc / len(data_)"
   ]
  },
  {
   "cell_type": "markdown",
   "metadata": {
    "colab_type": "text",
    "id": "APSZL94SwfVt"
   },
   "source": [
    "Split the dataset and run the model\n",
    "-----------------------------------\n",
    "\n",
    "Since the original AG_NEWS has no valid dataset, we split the training\n",
    "dataset into train/valid sets with a split ratio of 0.95 (train) and\n",
    "0.05 (valid). \n",
    "\n",
    "CrossEntropyLoss criterion combines nn.LogSoftmax() and nn.NLLLoss() in a single class.\n",
    "It is useful when training a classification problem with C classes."
   ]
  },
  {
   "cell_type": "code",
   "execution_count": 9,
   "metadata": {
    "colab": {
     "base_uri": "https://localhost:8080/",
     "height": 273
    },
    "colab_type": "code",
    "id": "K511gXl6wfVu",
    "outputId": "aaa2f13e-11ff-424b-a1e4-2d4ad6b63961",
    "scrolled": true
   },
   "outputs": [],
   "source": [
    "def run_optimizer(model,optimizer,name_file = \"new\",scheduler=None,N_EPOCHS=20):\n",
    "    \n",
    "    min_valid_loss = float('inf')\n",
    "    \n",
    "    criterion = torch.nn.CrossEntropyLoss().to(device)\n",
    "\n",
    "    train_len = int(len(train_dataset) * 0.95)\n",
    "    sub_train_, sub_valid_ = \\\n",
    "        random_split(train_dataset, [train_len, len(train_dataset) - train_len])\n",
    "\n",
    "    train_loss_tab = []\n",
    "    train_acc_tab = []\n",
    "    valid_loss_tab = []\n",
    "    valid_acc_tab = []\n",
    "\n",
    "    for epoch in range(N_EPOCHS):\n",
    "\n",
    "        start_time = time.time()\n",
    "        train_loss, train_acc = train_func(sub_train_,model,optimizer,scheduler,criterion)\n",
    "        valid_loss, valid_acc = test(sub_valid_,model,optimizer,criterion)\n",
    "\n",
    "        secs = int(time.time() - start_time)\n",
    "        mins = secs / 60\n",
    "        secs = secs % 60\n",
    "\n",
    "        print('Epoch: %d' %(epoch + 1), \" | time in %d minutes, %d seconds\" %(mins, secs))\n",
    "        print(f'\\tLoss: {train_loss:.4f}(train)\\t|\\tAcc: {train_acc * 100:.1f}%(train)')\n",
    "        print(f'\\tLoss: {valid_loss:.4f}(valid)\\t|\\tAcc: {valid_acc * 100:.1f}%(valid)')\n",
    "        \n",
    "        train_loss_tab.append(train_loss)\n",
    "        train_acc_tab.append(train_acc)\n",
    "        valid_loss_tab.append(float(valid_loss))\n",
    "        valid_acc_tab.append(valid_acc)\n",
    "\n",
    "    \n",
    "    dict_data = {\n",
    "        'train_loss_tab':train_loss_tab,\n",
    "        'train_acc_tab':train_acc_tab,\n",
    "        'valid_loss_tab':valid_loss_tab,\n",
    "        'valid_acc_tab':valid_acc_tab\n",
    "    }\n",
    "\n",
    "    df = pd.DataFrame(dict_data, columns= dict_data.keys())\n",
    "    print(df)\n",
    "    \n",
    "    path = \"D:\\\\dossier important 2020\\\\swa_gaussian-master\\\\optimizer_results\\\\\" + name_file + \".csv\"\n",
    "    \n",
    "    df.to_csv (path, index = False, header=True)\n",
    "        \n",
    "    return train_loss_tab,train_acc_tab, valid_loss_tab, valid_acc_tab\n",
    "    "
   ]
  },
  {
   "cell_type": "markdown",
   "metadata": {},
   "source": [
    "### Stochastic Gradient Descent"
   ]
  },
  {
   "cell_type": "markdown",
   "metadata": {},
   "source": [
    "SGD implements stochastic gradient descent method as optimizer. The initial\n",
    "learning rate is set to 4.0. \n",
    "\n",
    "StepLR is used here to adjust the learning rate through epochs."
   ]
  },
  {
   "cell_type": "code",
   "execution_count": 37,
   "metadata": {},
   "outputs": [
    {
     "name": "stdout",
     "output_type": "stream",
     "text": [
      "Epoch: 1  | time in 0 minutes, 23 seconds\n",
      "\tLoss: 0.0261(train)\t|\tAcc: 84.8%(train)\n",
      "\tLoss: 0.0001(valid)\t|\tAcc: 89.5%(valid)\n",
      "Epoch: 2  | time in 0 minutes, 22 seconds\n",
      "\tLoss: 0.0119(train)\t|\tAcc: 93.7%(train)\n",
      "\tLoss: 0.0001(valid)\t|\tAcc: 91.5%(valid)\n",
      "Epoch: 3  | time in 0 minutes, 22 seconds\n",
      "\tLoss: 0.0069(train)\t|\tAcc: 96.4%(train)\n",
      "\tLoss: 0.0001(valid)\t|\tAcc: 91.9%(valid)\n",
      "Epoch: 4  | time in 0 minutes, 22 seconds\n",
      "\tLoss: 0.0039(train)\t|\tAcc: 98.1%(train)\n",
      "\tLoss: 0.0002(valid)\t|\tAcc: 91.4%(valid)\n",
      "Epoch: 5  | time in 0 minutes, 22 seconds\n",
      "\tLoss: 0.0023(train)\t|\tAcc: 99.0%(train)\n",
      "\tLoss: 0.0002(valid)\t|\tAcc: 91.8%(valid)\n",
      "Epoch: 6  | time in 0 minutes, 22 seconds\n",
      "\tLoss: 0.0015(train)\t|\tAcc: 99.4%(train)\n",
      "\tLoss: 0.0002(valid)\t|\tAcc: 91.1%(valid)\n",
      "Epoch: 7  | time in 0 minutes, 22 seconds\n",
      "\tLoss: 0.0010(train)\t|\tAcc: 99.6%(train)\n",
      "\tLoss: 0.0002(valid)\t|\tAcc: 92.0%(valid)\n",
      "Epoch: 8  | time in 0 minutes, 22 seconds\n",
      "\tLoss: 0.0008(train)\t|\tAcc: 99.7%(train)\n",
      "\tLoss: 0.0002(valid)\t|\tAcc: 92.0%(valid)\n",
      "Epoch: 9  | time in 0 minutes, 22 seconds\n",
      "\tLoss: 0.0006(train)\t|\tAcc: 99.8%(train)\n",
      "\tLoss: 0.0002(valid)\t|\tAcc: 91.8%(valid)\n",
      "Epoch: 10  | time in 0 minutes, 22 seconds\n",
      "\tLoss: 0.0005(train)\t|\tAcc: 99.8%(train)\n",
      "\tLoss: 0.0002(valid)\t|\tAcc: 92.0%(valid)\n",
      "Epoch: 11  | time in 0 minutes, 22 seconds\n",
      "\tLoss: 0.0004(train)\t|\tAcc: 99.8%(train)\n",
      "\tLoss: 0.0002(valid)\t|\tAcc: 92.1%(valid)\n",
      "Epoch: 12  | time in 0 minutes, 22 seconds\n",
      "\tLoss: 0.0004(train)\t|\tAcc: 99.9%(train)\n",
      "\tLoss: 0.0002(valid)\t|\tAcc: 92.2%(valid)\n",
      "Epoch: 13  | time in 0 minutes, 22 seconds\n",
      "\tLoss: 0.0003(train)\t|\tAcc: 99.9%(train)\n",
      "\tLoss: 0.0002(valid)\t|\tAcc: 92.1%(valid)\n",
      "Epoch: 14  | time in 0 minutes, 21 seconds\n",
      "\tLoss: 0.0003(train)\t|\tAcc: 99.9%(train)\n",
      "\tLoss: 0.0002(valid)\t|\tAcc: 92.0%(valid)\n",
      "Epoch: 15  | time in 0 minutes, 21 seconds\n",
      "\tLoss: 0.0003(train)\t|\tAcc: 99.9%(train)\n",
      "\tLoss: 0.0002(valid)\t|\tAcc: 92.1%(valid)\n",
      "Epoch: 16  | time in 0 minutes, 22 seconds\n",
      "\tLoss: 0.0002(train)\t|\tAcc: 99.9%(train)\n",
      "\tLoss: 0.0002(valid)\t|\tAcc: 92.1%(valid)\n",
      "Epoch: 17  | time in 0 minutes, 21 seconds\n",
      "\tLoss: 0.0002(train)\t|\tAcc: 99.9%(train)\n",
      "\tLoss: 0.0002(valid)\t|\tAcc: 92.0%(valid)\n",
      "Epoch: 18  | time in 0 minutes, 21 seconds\n",
      "\tLoss: 0.0002(train)\t|\tAcc: 100.0%(train)\n",
      "\tLoss: 0.0002(valid)\t|\tAcc: 92.2%(valid)\n",
      "Epoch: 19  | time in 0 minutes, 21 seconds\n",
      "\tLoss: 0.0002(train)\t|\tAcc: 99.9%(train)\n",
      "\tLoss: 0.0002(valid)\t|\tAcc: 92.1%(valid)\n",
      "Epoch: 20  | time in 0 minutes, 21 seconds\n",
      "\tLoss: 0.0002(train)\t|\tAcc: 100.0%(train)\n",
      "\tLoss: 0.0002(valid)\t|\tAcc: 92.2%(valid)\n",
      "    train_loss_tab  train_acc_tab  valid_loss_tab  valid_acc_tab\n",
      "0         0.026108       0.847526        0.000117       0.895167\n",
      "1         0.011890       0.936719        0.000057       0.915000\n",
      "2         0.006852       0.963982        0.000141       0.918667\n",
      "3         0.003911       0.980921        0.000182       0.914167\n",
      "4         0.002277       0.989675        0.000166       0.918333\n",
      "5         0.001512       0.993772        0.000246       0.911500\n",
      "6         0.001048       0.996096        0.000158       0.920167\n",
      "7         0.000836       0.996737        0.000200       0.920333\n",
      "8         0.000629       0.997772        0.000180       0.918500\n",
      "9         0.000508       0.998158        0.000163       0.920000\n",
      "10        0.000444       0.998456        0.000213       0.920833\n",
      "11        0.000377       0.998728        0.000181       0.921500\n",
      "12        0.000324       0.998947        0.000153       0.920667\n",
      "13        0.000289       0.999184        0.000238       0.920500\n",
      "14        0.000262       0.999316        0.000215       0.921333\n",
      "15        0.000241       0.999360        0.000202       0.921167\n",
      "16        0.000224       0.999412        0.000217       0.919667\n",
      "17        0.000213       0.999500        0.000196       0.921833\n",
      "18        0.000199       0.999474        0.000247       0.920667\n",
      "19        0.000188       0.999553        0.000230       0.922000\n"
     ]
    }
   ],
   "source": [
    "name_file = \"SGD\"\n",
    "model_SGD = TextSentiment(VOCAB_SIZE, EMBED_DIM, NUN_CLASS).to(device)\n",
    "optimizer_SGD = torch.optim.SGD(model_SGD.parameters(), lr=4.0)\n",
    "scheduler = torch.optim.lr_scheduler.StepLR(optimizer_SGD, 1, gamma=0.9)\n",
    "train_loss_tab, train_acc_tab, valid_loss_tab, valid_acc_tab, test_loss, test_acc = run_optimizer(model_SGD,optimizer_SGD,name_file,scheduler)"
   ]
  },
  {
   "cell_type": "markdown",
   "metadata": {},
   "source": [
    "### Adagrad"
   ]
  },
  {
   "cell_type": "code",
   "execution_count": 38,
   "metadata": {
    "scrolled": true
   },
   "outputs": [
    {
     "name": "stdout",
     "output_type": "stream",
     "text": [
      "Epoch: 1  | time in 0 minutes, 37 seconds\n",
      "\tLoss: 0.0324(train)\t|\tAcc: 87.7%(train)\n",
      "\tLoss: 0.0002(valid)\t|\tAcc: 77.8%(valid)\n",
      "Epoch: 2  | time in 0 minutes, 38 seconds\n",
      "\tLoss: 0.0050(train)\t|\tAcc: 98.2%(train)\n",
      "\tLoss: 0.0000(valid)\t|\tAcc: 91.9%(valid)\n",
      "Epoch: 3  | time in 0 minutes, 38 seconds\n",
      "\tLoss: 0.0019(train)\t|\tAcc: 99.3%(train)\n",
      "\tLoss: 0.0000(valid)\t|\tAcc: 92.0%(valid)\n",
      "Epoch: 4  | time in 0 minutes, 40 seconds\n",
      "\tLoss: 0.0012(train)\t|\tAcc: 99.6%(train)\n",
      "\tLoss: 0.0000(valid)\t|\tAcc: 91.8%(valid)\n",
      "Epoch: 5  | time in 0 minutes, 41 seconds\n",
      "\tLoss: 0.0009(train)\t|\tAcc: 99.7%(train)\n",
      "\tLoss: 0.0000(valid)\t|\tAcc: 91.9%(valid)\n",
      "Epoch: 6  | time in 0 minutes, 39 seconds\n",
      "\tLoss: 0.0006(train)\t|\tAcc: 99.8%(train)\n",
      "\tLoss: 0.0000(valid)\t|\tAcc: 92.0%(valid)\n",
      "Epoch: 7  | time in 0 minutes, 36 seconds\n",
      "\tLoss: 0.0005(train)\t|\tAcc: 99.8%(train)\n",
      "\tLoss: 0.0001(valid)\t|\tAcc: 92.0%(valid)\n",
      "Epoch: 8  | time in 0 minutes, 36 seconds\n",
      "\tLoss: 0.0004(train)\t|\tAcc: 99.9%(train)\n",
      "\tLoss: 0.0001(valid)\t|\tAcc: 91.8%(valid)\n",
      "Epoch: 9  | time in 0 minutes, 36 seconds\n",
      "\tLoss: 0.0004(train)\t|\tAcc: 99.9%(train)\n",
      "\tLoss: 0.0000(valid)\t|\tAcc: 92.0%(valid)\n",
      "Epoch: 10  | time in 0 minutes, 36 seconds\n",
      "\tLoss: 0.0003(train)\t|\tAcc: 99.9%(train)\n",
      "\tLoss: 0.0001(valid)\t|\tAcc: 92.2%(valid)\n",
      "Epoch: 11  | time in 0 minutes, 36 seconds\n",
      "\tLoss: 0.0003(train)\t|\tAcc: 99.9%(train)\n",
      "\tLoss: 0.0001(valid)\t|\tAcc: 91.9%(valid)\n",
      "Epoch: 12  | time in 0 minutes, 36 seconds\n",
      "\tLoss: 0.0003(train)\t|\tAcc: 99.9%(train)\n",
      "\tLoss: 0.0000(valid)\t|\tAcc: 92.3%(valid)\n",
      "Epoch: 13  | time in 0 minutes, 36 seconds\n",
      "\tLoss: 0.0002(train)\t|\tAcc: 99.9%(train)\n",
      "\tLoss: 0.0000(valid)\t|\tAcc: 92.1%(valid)\n",
      "Epoch: 14  | time in 0 minutes, 36 seconds\n",
      "\tLoss: 0.0002(train)\t|\tAcc: 99.9%(train)\n",
      "\tLoss: 0.0000(valid)\t|\tAcc: 91.9%(valid)\n",
      "Epoch: 15  | time in 0 minutes, 36 seconds\n",
      "\tLoss: 0.0002(train)\t|\tAcc: 99.9%(train)\n",
      "\tLoss: 0.0000(valid)\t|\tAcc: 91.9%(valid)\n",
      "Epoch: 16  | time in 0 minutes, 37 seconds\n",
      "\tLoss: 0.0002(train)\t|\tAcc: 99.9%(train)\n",
      "\tLoss: 0.0000(valid)\t|\tAcc: 91.7%(valid)\n",
      "Epoch: 17  | time in 0 minutes, 36 seconds\n",
      "\tLoss: 0.0002(train)\t|\tAcc: 99.9%(train)\n",
      "\tLoss: 0.0000(valid)\t|\tAcc: 92.1%(valid)\n",
      "Epoch: 18  | time in 0 minutes, 37 seconds\n",
      "\tLoss: 0.0001(train)\t|\tAcc: 99.9%(train)\n",
      "\tLoss: 0.0000(valid)\t|\tAcc: 92.1%(valid)\n",
      "Epoch: 19  | time in 0 minutes, 36 seconds\n",
      "\tLoss: 0.0001(train)\t|\tAcc: 100.0%(train)\n",
      "\tLoss: 0.0000(valid)\t|\tAcc: 92.1%(valid)\n",
      "Epoch: 20  | time in 0 minutes, 38 seconds\n",
      "\tLoss: 0.0001(train)\t|\tAcc: 100.0%(train)\n",
      "\tLoss: 0.0000(valid)\t|\tAcc: 91.9%(valid)\n",
      "    train_loss_tab  train_acc_tab  valid_loss_tab  valid_acc_tab\n",
      "0         0.032414       0.877035        0.000210       0.777500\n",
      "1         0.004974       0.981912        0.000010       0.918833\n",
      "2         0.001948       0.992956        0.000001       0.919667\n",
      "3         0.001183       0.995868        0.000038       0.917500\n",
      "4         0.000897       0.997105        0.000035       0.918833\n",
      "5         0.000627       0.997886        0.000034       0.920333\n",
      "6         0.000462       0.998377        0.000061       0.920000\n",
      "7         0.000437       0.998728        0.000054       0.918500\n",
      "8         0.000407       0.998640        0.000007       0.919667\n",
      "9         0.000318       0.998860        0.000050       0.922000\n",
      "10        0.000314       0.998904        0.000050       0.919167\n",
      "11        0.000267       0.999026        0.000019       0.923000\n",
      "12        0.000228       0.999158        0.000045       0.921000\n",
      "13        0.000186       0.999307        0.000022       0.919000\n",
      "14        0.000191       0.999360        0.000015       0.918833\n",
      "15        0.000188       0.999281        0.000028       0.917000\n",
      "16        0.000157       0.999351        0.000020       0.921000\n",
      "17        0.000121       0.999491        0.000027       0.921000\n",
      "18        0.000138       0.999561        0.000028       0.921333\n",
      "19        0.000123       0.999596        0.000040       0.918667\n"
     ]
    }
   ],
   "source": [
    "name_file = \"Adagrad\"\n",
    "model_Adagrad = TextSentiment(VOCAB_SIZE, EMBED_DIM, NUN_CLASS).to(device)\n",
    "optimizer_Adagrad = torch.optim.Adagrad(model_Adagrad.parameters(), lr=4.0)\n",
    "train_loss_tab, train_acc_tab, valid_loss_tab, valid_acc_tab, test_loss, test_acc = run_optimizer(model_Adagrad,optimizer_Adagrad,name_file)"
   ]
  },
  {
   "cell_type": "markdown",
   "metadata": {},
   "source": [
    "### CosineAnnealingLR"
   ]
  },
  {
   "cell_type": "code",
   "execution_count": 8,
   "metadata": {},
   "outputs": [
    {
     "name": "stdout",
     "output_type": "stream",
     "text": [
      "Epoch: 1  | time in 0 minutes, 23 seconds\n",
      "\tLoss: 0.0262(train)\t|\tAcc: 84.7%(train)\n",
      "\tLoss: 0.0000(valid)\t|\tAcc: 90.5%(valid)\n",
      "Epoch: 2  | time in 0 minutes, 23 seconds\n",
      "\tLoss: 0.0121(train)\t|\tAcc: 93.5%(train)\n",
      "\tLoss: 0.0000(valid)\t|\tAcc: 91.7%(valid)\n",
      "Epoch: 3  | time in 0 minutes, 24 seconds\n",
      "\tLoss: 0.0070(train)\t|\tAcc: 96.3%(train)\n",
      "\tLoss: 0.0000(valid)\t|\tAcc: 91.1%(valid)\n",
      "Epoch: 4  | time in 0 minutes, 23 seconds\n",
      "\tLoss: 0.0037(train)\t|\tAcc: 98.1%(train)\n",
      "\tLoss: 0.0000(valid)\t|\tAcc: 91.7%(valid)\n",
      "Epoch: 5  | time in 0 minutes, 22 seconds\n",
      "\tLoss: 0.0021(train)\t|\tAcc: 99.1%(train)\n",
      "\tLoss: 0.0000(valid)\t|\tAcc: 92.3%(valid)\n",
      "Epoch: 6  | time in 0 minutes, 22 seconds\n",
      "\tLoss: 0.0012(train)\t|\tAcc: 99.5%(train)\n",
      "\tLoss: 0.0000(valid)\t|\tAcc: 92.2%(valid)\n",
      "Epoch: 7  | time in 0 minutes, 22 seconds\n",
      "\tLoss: 0.0008(train)\t|\tAcc: 99.7%(train)\n",
      "\tLoss: 0.0000(valid)\t|\tAcc: 92.2%(valid)\n",
      "Epoch: 8  | time in 0 minutes, 22 seconds\n",
      "\tLoss: 0.0005(train)\t|\tAcc: 99.8%(train)\n",
      "\tLoss: 0.0000(valid)\t|\tAcc: 92.2%(valid)\n",
      "Epoch: 9  | time in 0 minutes, 22 seconds\n",
      "\tLoss: 0.0004(train)\t|\tAcc: 99.9%(train)\n",
      "\tLoss: 0.0000(valid)\t|\tAcc: 92.3%(valid)\n",
      "Epoch: 10  | time in 0 minutes, 22 seconds\n",
      "\tLoss: 0.0004(train)\t|\tAcc: 99.9%(train)\n",
      "\tLoss: 0.0000(valid)\t|\tAcc: 92.3%(valid)\n",
      "Epoch: 11  | time in 0 minutes, 22 seconds\n",
      "\tLoss: 0.0004(train)\t|\tAcc: 99.9%(train)\n",
      "\tLoss: 0.0000(valid)\t|\tAcc: 92.3%(valid)\n",
      "Epoch: 12  | time in 0 minutes, 22 seconds\n",
      "\tLoss: 0.0004(train)\t|\tAcc: 99.9%(train)\n",
      "\tLoss: 0.0000(valid)\t|\tAcc: 92.4%(valid)\n",
      "Epoch: 13  | time in 0 minutes, 22 seconds\n",
      "\tLoss: 0.0004(train)\t|\tAcc: 99.9%(train)\n",
      "\tLoss: 0.0000(valid)\t|\tAcc: 92.5%(valid)\n",
      "Epoch: 14  | time in 0 minutes, 22 seconds\n",
      "\tLoss: 0.0004(train)\t|\tAcc: 99.9%(train)\n",
      "\tLoss: 0.0000(valid)\t|\tAcc: 92.4%(valid)\n",
      "Epoch: 15  | time in 0 minutes, 22 seconds\n",
      "\tLoss: 0.0005(train)\t|\tAcc: 99.9%(train)\n",
      "\tLoss: 0.0000(valid)\t|\tAcc: 92.3%(valid)\n",
      "Epoch: 16  | time in 0 minutes, 22 seconds\n",
      "\tLoss: 0.0006(train)\t|\tAcc: 99.8%(train)\n",
      "\tLoss: 0.0000(valid)\t|\tAcc: 92.0%(valid)\n",
      "Epoch: 17  | time in 0 minutes, 23 seconds\n",
      "\tLoss: 0.0008(train)\t|\tAcc: 99.7%(train)\n",
      "\tLoss: 0.0000(valid)\t|\tAcc: 92.2%(valid)\n",
      "Epoch: 18  | time in 0 minutes, 22 seconds\n",
      "\tLoss: 0.0011(train)\t|\tAcc: 99.6%(train)\n",
      "\tLoss: 0.0000(valid)\t|\tAcc: 91.9%(valid)\n",
      "Epoch: 19  | time in 0 minutes, 22 seconds\n",
      "\tLoss: 0.0013(train)\t|\tAcc: 99.4%(train)\n",
      "\tLoss: 0.0000(valid)\t|\tAcc: 91.7%(valid)\n",
      "Epoch: 20  | time in 0 minutes, 21 seconds\n",
      "\tLoss: 0.0016(train)\t|\tAcc: 99.3%(train)\n",
      "\tLoss: 0.0000(valid)\t|\tAcc: 91.7%(valid)\n",
      "    train_loss_tab  train_acc_tab  valid_loss_tab  valid_acc_tab\n",
      "0         0.026222       0.846877        0.000040       0.905500\n",
      "1         0.012090       0.935211        0.000034       0.917333\n",
      "2         0.007026       0.962930        0.000011       0.911167\n",
      "3         0.003747       0.981325        0.000030       0.916833\n",
      "4         0.002074       0.990807        0.000007       0.923000\n",
      "5         0.001216       0.995316        0.000005       0.921667\n",
      "6         0.000778       0.997167        0.000012       0.922500\n",
      "7         0.000549       0.998368        0.000011       0.922167\n",
      "8         0.000439       0.999026        0.000007       0.922833\n",
      "9         0.000395       0.999289        0.000008       0.923500\n",
      "10        0.000383       0.999421        0.000008       0.923500\n",
      "11        0.000389       0.999386        0.000007       0.923667\n",
      "12        0.000405       0.999140        0.000008       0.924500\n",
      "13        0.000427       0.998939        0.000007       0.923667\n",
      "14        0.000471       0.998553        0.000005       0.922833\n",
      "15        0.000589       0.997939        0.000016       0.920000\n",
      "16        0.000777       0.997254        0.000004       0.921667\n",
      "17        0.001064       0.995930        0.000002       0.919167\n",
      "18        0.001323       0.994439        0.000010       0.917167\n",
      "19        0.001595       0.993219        0.000018       0.916667\n"
     ]
    },
    {
     "ename": "NameError",
     "evalue": "name 'test_loss' is not defined",
     "output_type": "error",
     "traceback": [
      "\u001b[1;31m---------------------------------------------------------------------------\u001b[0m",
      "\u001b[1;31mNameError\u001b[0m                                 Traceback (most recent call last)",
      "\u001b[1;32m<ipython-input-8-31c087816a0e>\u001b[0m in \u001b[0;36m<module>\u001b[1;34m\u001b[0m\n\u001b[0;32m      6\u001b[0m \u001b[0mscheduler_COSINE\u001b[0m \u001b[1;33m=\u001b[0m \u001b[0mtorch\u001b[0m\u001b[1;33m.\u001b[0m\u001b[0moptim\u001b[0m\u001b[1;33m.\u001b[0m\u001b[0mlr_scheduler\u001b[0m\u001b[1;33m.\u001b[0m\u001b[0mCosineAnnealingLR\u001b[0m\u001b[1;33m(\u001b[0m\u001b[0moptimizer_SGD\u001b[0m\u001b[1;33m,\u001b[0m \u001b[0mT_max\u001b[0m\u001b[1;33m=\u001b[0m\u001b[1;36m10\u001b[0m\u001b[1;33m)\u001b[0m\u001b[1;33m\u001b[0m\u001b[1;33m\u001b[0m\u001b[0m\n\u001b[0;32m      7\u001b[0m \u001b[1;33m\u001b[0m\u001b[0m\n\u001b[1;32m----> 8\u001b[1;33m \u001b[0mtrain_loss_tab\u001b[0m\u001b[1;33m,\u001b[0m \u001b[0mtrain_acc_tab\u001b[0m\u001b[1;33m,\u001b[0m \u001b[0mvalid_loss_tab\u001b[0m\u001b[1;33m,\u001b[0m \u001b[0mvalid_acc_tab\u001b[0m \u001b[1;33m=\u001b[0m \u001b[0mrun_optimizer\u001b[0m\u001b[1;33m(\u001b[0m\u001b[0mmodel_SGD\u001b[0m\u001b[1;33m,\u001b[0m\u001b[0moptimizer_SGD\u001b[0m\u001b[1;33m,\u001b[0m\u001b[0mname_file\u001b[0m\u001b[1;33m,\u001b[0m\u001b[0mscheduler_COSINE\u001b[0m\u001b[1;33m)\u001b[0m\u001b[1;33m\u001b[0m\u001b[1;33m\u001b[0m\u001b[0m\n\u001b[0m",
      "\u001b[1;32m<ipython-input-6-2f15e3fa4732>\u001b[0m in \u001b[0;36mrun_optimizer\u001b[1;34m(model, optimizer, name_file, scheduler, N_EPOCHS)\u001b[0m\n\u001b[0;32m     48\u001b[0m     \u001b[0mdf\u001b[0m\u001b[1;33m.\u001b[0m\u001b[0mto_csv\u001b[0m \u001b[1;33m(\u001b[0m\u001b[0mpath\u001b[0m\u001b[1;33m,\u001b[0m \u001b[0mindex\u001b[0m \u001b[1;33m=\u001b[0m \u001b[1;32mFalse\u001b[0m\u001b[1;33m,\u001b[0m \u001b[0mheader\u001b[0m\u001b[1;33m=\u001b[0m\u001b[1;32mTrue\u001b[0m\u001b[1;33m)\u001b[0m\u001b[1;33m\u001b[0m\u001b[1;33m\u001b[0m\u001b[0m\n\u001b[0;32m     49\u001b[0m \u001b[1;33m\u001b[0m\u001b[0m\n\u001b[1;32m---> 50\u001b[1;33m     \u001b[1;32mreturn\u001b[0m \u001b[0mtrain_loss_tab\u001b[0m\u001b[1;33m,\u001b[0m\u001b[0mtrain_acc_tab\u001b[0m\u001b[1;33m,\u001b[0m \u001b[0mvalid_loss_tab\u001b[0m\u001b[1;33m,\u001b[0m \u001b[0mvalid_acc_tab\u001b[0m\u001b[1;33m,\u001b[0m \u001b[0mtest_loss\u001b[0m\u001b[1;33m,\u001b[0m \u001b[0mtest_acc\u001b[0m\u001b[1;33m\u001b[0m\u001b[1;33m\u001b[0m\u001b[0m\n\u001b[0m\u001b[0;32m     51\u001b[0m \u001b[1;33m\u001b[0m\u001b[0m\n",
      "\u001b[1;31mNameError\u001b[0m: name 'test_loss' is not defined"
     ]
    }
   ],
   "source": [
    "name_file = \"SGD_scheduler_COSINE\"\n",
    "model_SGD = TextSentiment(VOCAB_SIZE, EMBED_DIM, NUN_CLASS).to(device)\n",
    "\n",
    "optimizer_SGD = torch.optim.SGD(model_SGD.parameters(), lr=4.0)\n",
    "\n",
    "scheduler_COSINE = torch.optim.lr_scheduler.CosineAnnealingLR(optimizer_SGD, T_max=10)\n",
    "\n",
    "train_loss_tab, train_acc_tab, valid_loss_tab, valid_acc_tab = run_optimizer(model_SGD,optimizer_SGD,name_file,scheduler_COSINE)"
   ]
  },
  {
   "cell_type": "markdown",
   "metadata": {},
   "source": [
    "## SWA"
   ]
  },
  {
   "cell_type": "code",
   "execution_count": 14,
   "metadata": {},
   "outputs": [
    {
     "name": "stdout",
     "output_type": "stream",
     "text": [
      "Epoch: 1  | time in 0 minutes, 44 seconds\n",
      "\tLoss: 0.0852(train)\t|\tAcc: 35.9%(train)\n",
      "\tLoss: 0.0005(valid)\t|\tAcc: 43.9%(valid)\n",
      "Epoch: 2  | time in 0 minutes, 45 seconds\n",
      "\tLoss: 0.0794(train)\t|\tAcc: 49.9%(train)\n",
      "\tLoss: 0.0004(valid)\t|\tAcc: 55.8%(valid)\n",
      "Epoch: 3  | time in 0 minutes, 44 seconds\n",
      "\tLoss: 0.0678(train)\t|\tAcc: 61.6%(train)\n",
      "\tLoss: 0.0004(valid)\t|\tAcc: 66.1%(valid)\n",
      "Epoch: 4  | time in 0 minutes, 45 seconds\n",
      "\tLoss: 0.0546(train)\t|\tAcc: 70.7%(train)\n",
      "\tLoss: 0.0003(valid)\t|\tAcc: 73.2%(valid)\n",
      "Epoch: 5  | time in 0 minutes, 44 seconds\n",
      "\tLoss: 0.0447(train)\t|\tAcc: 76.5%(train)\n",
      "\tLoss: 0.0002(valid)\t|\tAcc: 77.6%(valid)\n",
      "Epoch: 6  | time in 0 minutes, 44 seconds\n",
      "\tLoss: 0.0382(train)\t|\tAcc: 79.8%(train)\n",
      "\tLoss: 0.0002(valid)\t|\tAcc: 80.5%(valid)\n",
      "Epoch: 7  | time in 0 minutes, 44 seconds\n",
      "\tLoss: 0.0338(train)\t|\tAcc: 82.1%(train)\n",
      "\tLoss: 0.0002(valid)\t|\tAcc: 82.4%(valid)\n",
      "Epoch: 8  | time in 0 minutes, 44 seconds\n",
      "\tLoss: 0.0308(train)\t|\tAcc: 83.6%(train)\n",
      "\tLoss: 0.0002(valid)\t|\tAcc: 83.9%(valid)\n",
      "Epoch: 9  | time in 0 minutes, 44 seconds\n",
      "\tLoss: 0.0286(train)\t|\tAcc: 84.8%(train)\n",
      "\tLoss: 0.0002(valid)\t|\tAcc: 85.0%(valid)\n",
      "Epoch: 10  | time in 0 minutes, 43 seconds\n",
      "\tLoss: 0.0269(train)\t|\tAcc: 85.7%(train)\n",
      "\tLoss: 0.0001(valid)\t|\tAcc: 85.9%(valid)\n",
      "Epoch: 11  | time in 0 minutes, 44 seconds\n",
      "\tLoss: 0.0255(train)\t|\tAcc: 86.5%(train)\n",
      "\tLoss: 0.0001(valid)\t|\tAcc: 86.6%(valid)\n",
      "Epoch: 12  | time in 0 minutes, 44 seconds\n",
      "\tLoss: 0.0244(train)\t|\tAcc: 87.1%(train)\n",
      "\tLoss: 0.0001(valid)\t|\tAcc: 87.2%(valid)\n",
      "Epoch: 13  | time in 0 minutes, 43 seconds\n",
      "\tLoss: 0.0234(train)\t|\tAcc: 87.6%(train)\n",
      "\tLoss: 0.0001(valid)\t|\tAcc: 87.6%(valid)\n",
      "Epoch: 14  | time in 0 minutes, 46 seconds\n",
      "\tLoss: 0.0225(train)\t|\tAcc: 88.1%(train)\n",
      "\tLoss: 0.0001(valid)\t|\tAcc: 87.9%(valid)\n",
      "Epoch: 15  | time in 0 minutes, 44 seconds\n",
      "\tLoss: 0.0218(train)\t|\tAcc: 88.5%(train)\n",
      "\tLoss: 0.0001(valid)\t|\tAcc: 88.0%(valid)\n",
      "Epoch: 16  | time in 0 minutes, 44 seconds\n",
      "\tLoss: 0.0211(train)\t|\tAcc: 88.9%(train)\n",
      "\tLoss: 0.0001(valid)\t|\tAcc: 88.2%(valid)\n",
      "Epoch: 17  | time in 0 minutes, 44 seconds\n",
      "\tLoss: 0.0205(train)\t|\tAcc: 89.2%(train)\n",
      "\tLoss: 0.0001(valid)\t|\tAcc: 88.3%(valid)\n",
      "Epoch: 18  | time in 0 minutes, 44 seconds\n",
      "\tLoss: 0.0199(train)\t|\tAcc: 89.5%(train)\n",
      "\tLoss: 0.0001(valid)\t|\tAcc: 88.6%(valid)\n",
      "Epoch: 19  | time in 0 minutes, 44 seconds\n",
      "\tLoss: 0.0194(train)\t|\tAcc: 89.8%(train)\n",
      "\tLoss: 0.0001(valid)\t|\tAcc: 88.7%(valid)\n",
      "Epoch: 20  | time in 0 minutes, 44 seconds\n",
      "\tLoss: 0.0189(train)\t|\tAcc: 90.1%(train)\n",
      "\tLoss: 0.0001(valid)\t|\tAcc: 88.7%(valid)\n",
      "    train_loss_tab  train_acc_tab  valid_loss_tab  valid_acc_tab\n",
      "0         0.085187       0.359193        0.000451       0.438833\n",
      "1         0.079405       0.499447        0.000421       0.557833\n",
      "2         0.067841       0.615947        0.000355       0.661500\n",
      "3         0.054614       0.706737        0.000279       0.731500\n",
      "4         0.044655       0.764693        0.000230       0.776500\n",
      "5         0.038157       0.798500        0.000197       0.805333\n",
      "6         0.033847       0.820860        0.000178       0.824167\n",
      "7         0.030845       0.836421        0.000164       0.839167\n",
      "8         0.028617       0.847982        0.000155       0.849833\n",
      "9         0.026901       0.857263        0.000148       0.858667\n",
      "10        0.025504       0.865044        0.000140       0.865500\n",
      "11        0.024352       0.870930        0.000136       0.871500\n",
      "12        0.023369       0.875816        0.000132       0.875833\n",
      "13        0.022516       0.881272        0.000131       0.879000\n",
      "14        0.021767       0.885061        0.000127       0.879667\n",
      "15        0.021097       0.888877        0.000127       0.882167\n",
      "16        0.020479       0.892298        0.000124       0.883167\n",
      "17        0.019925       0.895421        0.000123       0.886500\n",
      "18        0.019410       0.898298        0.000123       0.886667\n",
      "19        0.018933       0.901149        0.000122       0.887167\n"
     ]
    }
   ],
   "source": [
    "name_file = \"SWA\"\n",
    "model_SWA = TextSentiment(VOCAB_SIZE, EMBED_DIM, NUN_CLASS).to(device)\n",
    "\n",
    "base_opt = torch.optim.SGD(model_SWA.parameters(), lr=4.0)\n",
    "optimizer_SWA = SWA(base_opt, swa_start=10, swa_freq=5, swa_lr=0.05)\n",
    "\n",
    "train_loss_tab, train_acc_tab, valid_loss_tab, valid_acc_tab = run_optimizer(model_SWA,optimizer_SWA,name_file)"
   ]
  },
  {
   "cell_type": "markdown",
   "metadata": {
    "colab_type": "text",
    "id": "Xxh4d-gQwfV-"
   },
   "source": [
    "Test on a random news\n",
    "---------------------"
   ]
  },
  {
   "cell_type": "code",
   "execution_count": 15,
   "metadata": {
    "colab": {
     "base_uri": "https://localhost:8080/",
     "height": 34
    },
    "colab_type": "code",
    "id": "N5SeVMCcwfWC",
    "outputId": "01a85667-d5d2-41fa-b07a-3cb8fa91decf"
   },
   "outputs": [
    {
     "name": "stdout",
     "output_type": "stream",
     "text": [
      "This is a Sports news\n"
     ]
    }
   ],
   "source": [
    "ag_news_label = {1 : \"World\", 2 : \"Sports\", 3 : \"Business\", 4 : \"Sci/Tec\"}\n",
    "\n",
    "def predict(text, model, vocab, ngrams):\n",
    "    tokenizer = get_tokenizer(\"basic_english\")\n",
    "    with torch.no_grad():\n",
    "        text = torch.tensor([vocab[token]\n",
    "                            for token in ngrams_iterator(tokenizer(text), ngrams)])\n",
    "        output = model(text, torch.tensor([0]))\n",
    "        return output.argmax(1).item() + 1\n",
    "\n",
    "ex_text_str = \"MEMPHIS, Tenn. – Four days ago, Jon Rahm was \\\n",
    "    enduring the season’s worst weather conditions on Sunday at The \\\n",
    "    Open on his way to a closing 75 at Royal Portrush, which \\\n",
    "    considering the wind and the rain was a respectable showing. \\\n",
    "    Thursday’s first round at the WGC-FedEx St. Jude Invitational \\\n",
    "    was another story. With temperatures in the mid-80s and hardly any \\\n",
    "    wind, the Spaniard was 13 strokes better in a flawless round. \\\n",
    "    Thanks to his best putting performance on the PGA Tour, Rahm \\\n",
    "    finished with an 8-under 62 for a three-stroke lead, which \\\n",
    "    was even more impressive considering he’d never played the \\\n",
    "    front nine at TPC Southwind.\"\n",
    "\n",
    "vocab = train_dataset.get_vocab()\n",
    "model = model_SGD.to(\"cpu\")\n",
    "\n",
    "print(\"This is a %s news\" %ag_news_label[predict(ex_text_str, model_SGD, vocab, 2)])"
   ]
  }
 ],
 "metadata": {
  "accelerator": "GPU",
  "colab": {
   "name": "Copie de text_sentiment_ngrams_tutorial.ipynb",
   "provenance": []
  },
  "kernelspec": {
   "display_name": "Python 3",
   "language": "python",
   "name": "python3"
  },
  "language_info": {
   "codemirror_mode": {
    "name": "ipython",
    "version": 3
   },
   "file_extension": ".py",
   "mimetype": "text/x-python",
   "name": "python",
   "nbconvert_exporter": "python",
   "pygments_lexer": "ipython3",
   "version": "3.6.7"
  }
 },
 "nbformat": 4,
 "nbformat_minor": 1
}
