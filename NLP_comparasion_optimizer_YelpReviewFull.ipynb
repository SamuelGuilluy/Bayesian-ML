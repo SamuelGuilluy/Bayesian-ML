{
 "cells": [
  {
   "cell_type": "markdown",
   "metadata": {},
   "source": [
    "## Requirements "
   ]
  },
  {
   "cell_type": "code",
   "execution_count": 1,
   "metadata": {
    "colab": {
     "base_uri": "https://localhost:8080/",
     "height": 221
    },
    "colab_type": "code",
    "id": "kmulxuFRwfU0",
    "outputId": "889f13b7-9a25-4ae5-e65c-e9a3fd93caed"
   },
   "outputs": [],
   "source": [
    "#!pip install torch\n",
    "#!pip install torchtext==0.5.0\n",
    "#%matplotlib inline"
   ]
  },
  {
   "cell_type": "markdown",
   "metadata": {
    "colab_type": "text",
    "id": "GJuggEAgwfVA"
   },
   "source": [
    "\n",
    "Text Classification\n",
    "=================\n",
    "\n",
    "\n",
    "Load data with ngrams\n",
    "---------------------\n",
    "\n",
    "A bag of ngrams feature is applied to capture some partial information\n",
    "about the local word order. In practice, bi-gram or tri-gram are applied\n",
    "to provide more benefits as word groups than only one word. An example:\n",
    "\n",
    "::\n",
    "\n",
    "   \"load data with ngrams\"\n",
    "   Bi-grams results: \"load data\", \"data with\", \"with ngrams\"\n",
    "   Tri-grams results: \"load data with\", \"data with ngrams\"\n",
    "\n",
    "``TextClassification`` Dataset supports the ngrams method. By setting\n",
    "ngrams to 2, the example text in the dataset will be a list of single\n",
    "words plus bi-grams string.\n",
    "\n",
    "\n"
   ]
  },
  {
   "cell_type": "code",
   "execution_count": 1,
   "metadata": {
    "colab": {
     "base_uri": "https://localhost:8080/",
     "height": 85
    },
    "colab_type": "code",
    "id": "iyURII9_wfVB",
    "outputId": "f9365816-bdcc-42bc-90c6-d555178b92d7"
   },
   "outputs": [
    {
     "name": "stderr",
     "output_type": "stream",
     "text": [
      "650000lines [01:21, 8015.15lines/s]\n",
      "650000lines [02:30, 4328.20lines/s]\n",
      "50000lines [00:11, 4170.13lines/s]\n"
     ]
    }
   ],
   "source": [
    "import torch\n",
    "import torchtext\n",
    "\n",
    "import pandas as pd\n",
    "\n",
    "import time\n",
    "from torch.utils.data.dataset import random_split\n",
    "\n",
    "import re\n",
    "from torchtext.data.utils import ngrams_iterator\n",
    "from torchtext.data.utils import get_tokenizer\n",
    "\n",
    "from torchcontrib.optim import SWA\n",
    "\n",
    "#from torchtext.datasets import text_classification\n",
    "NGRAMS = 1\n",
    "import os\n",
    "if not os.path.isdir('./.data_sentiment'):\n",
    "    os.mkdir('./.data_sentiment')\n",
    "\n",
    "#DBpedia\n",
    "train_dataset, test_dataset = torchtext.datasets.YelpReviewFull(\n",
    "    root='./.data_sentiment', ngrams=NGRAMS, vocab=None)\n",
    "\n",
    "#train_dataset, test_dataset = torchtext.datasets.AG_NEWS(\n",
    "#    root='./.data_sentiment', ngrams=NGRAMS, vocab=None)\n",
    "\n",
    "BATCH_SIZE = 16\n",
    "device = torch.device(\"cuda\" if torch.cuda.is_available() else \"cpu\")"
   ]
  },
  {
   "cell_type": "markdown",
   "metadata": {
    "colab_type": "text",
    "id": "jWrWuP94wfVI"
   },
   "source": [
    "Define the model\n",
    "----------------"
   ]
  },
  {
   "cell_type": "code",
   "execution_count": 2,
   "metadata": {
    "colab": {},
    "colab_type": "code",
    "id": "g8on_dNjwfVJ"
   },
   "outputs": [],
   "source": [
    "import torch.nn as nn\n",
    "import torch.nn.functional as F\n",
    "class TextSentiment(nn.Module):\n",
    "    def __init__(self, vocab_size, embed_dim, num_class):\n",
    "        super().__init__()\n",
    "        self.embedding = nn.EmbeddingBag(vocab_size, embed_dim, sparse=True)\n",
    "        self.fc = nn.Linear(embed_dim, num_class)\n",
    "        self.init_weights()\n",
    "\n",
    "    def init_weights(self):\n",
    "        initrange = 0.5\n",
    "        self.embedding.weight.data.uniform_(-initrange, initrange)\n",
    "        self.fc.weight.data.uniform_(-initrange, initrange)\n",
    "        self.fc.bias.data.zero_()\n",
    "        \n",
    "    def forward(self, text, offsets):\n",
    "        embedded = self.embedding(text, offsets)\n",
    "        return self.fc(embedded)"
   ]
  },
  {
   "cell_type": "markdown",
   "metadata": {
    "colab_type": "text",
    "id": "Gg3BTQRGwfVN"
   },
   "source": [
    "Initiate an instance\n",
    "--------------------\n",
    "\n",
    "The AG_NEWS dataset has four labels and therefore the number of classes\n",
    "is four.\n",
    "\n",
    "   1 : World\n",
    "   2 : Sports\n",
    "   3 : Business\n",
    "   4 : Sci/Tec\n",
    "\n",
    "The vocab size is equal to the length of vocab (including single word\n",
    "and ngrams). The number of classes is equal to the number of labels,\n",
    "which is four in AG_NEWS case."
   ]
  },
  {
   "cell_type": "code",
   "execution_count": 3,
   "metadata": {
    "colab": {},
    "colab_type": "code",
    "id": "8WboevFqwfVP"
   },
   "outputs": [
    {
     "data": {
      "text/plain": [
       "torchtext.datasets.text_classification.TextClassificationDataset"
      ]
     },
     "execution_count": 3,
     "metadata": {},
     "output_type": "execute_result"
    }
   ],
   "source": [
    "VOCAB_SIZE = len(train_dataset.get_vocab())\n",
    "EMBED_DIM = 32\n",
    "NUN_CLASS = len(train_dataset.get_labels())\n",
    "type(train_dataset)"
   ]
  },
  {
   "cell_type": "markdown",
   "metadata": {
    "colab_type": "text",
    "id": "omRqNmVWwfVY"
   },
   "source": [
    "Functions used to generate batch\n",
    "--------------------------------\n",
    "\n",
    "\n"
   ]
  },
  {
   "cell_type": "markdown",
   "metadata": {
    "colab_type": "text",
    "id": "HKFLcNLnwfVb"
   },
   "source": [
    "Since the text entries have different lengths, a custom function\n",
    "generate_batch() is used to generate data batches and offsets. The\n",
    "function is passed to ``collate_fn`` in ``torch.utils.data.DataLoader``.\n",
    "The input to ``collate_fn`` is a list of tensors with the size of\n",
    "batch_size, and the ``collate_fn`` function packs them into a\n",
    "mini-batch.\n",
    "\n",
    "The text entries in the original data batch input are packed into a list\n",
    "and concatenated as a single tensor as the input of ``nn.EmbeddingBag``.\n",
    "The offsets is a tensor of delimiters to represent the beginning index\n",
    "of the individual sequence in the text tensor. Label is a tensor saving\n",
    "the labels of individual text entries."
   ]
  },
  {
   "cell_type": "code",
   "execution_count": 4,
   "metadata": {
    "colab": {},
    "colab_type": "code",
    "id": "yPkYS1OfwfVd"
   },
   "outputs": [],
   "source": [
    "def generate_batch(batch):\n",
    "    label = torch.tensor([entry[0] for entry in batch])\n",
    "    text = [entry[1] for entry in batch]\n",
    "    offsets = [0] + [len(entry) for entry in text]\n",
    "    offsets = torch.tensor(offsets[:-1]).cumsum(dim=0)\n",
    "    text = torch.cat(text)\n",
    "    return text, offsets, label"
   ]
  },
  {
   "cell_type": "markdown",
   "metadata": {
    "colab_type": "text",
    "id": "kuqKCuNNwfVj"
   },
   "source": [
    "Define functions to train the model and evaluate results.\n",
    "---------------------------------------------------------\n",
    "\n",
    "\n"
   ]
  },
  {
   "cell_type": "markdown",
   "metadata": {
    "colab_type": "text",
    "id": "IXjhts9awfVn"
   },
   "source": [
    "We use ``DataLoader`` here to load AG_NEWS datasets and send it to the\n",
    "model for training/validation.\n",
    "\n",
    "\n"
   ]
  },
  {
   "cell_type": "code",
   "execution_count": 5,
   "metadata": {
    "colab": {},
    "colab_type": "code",
    "id": "lm7Pvc7AwfVo"
   },
   "outputs": [],
   "source": [
    "from torch.utils.data import DataLoader\n",
    "\n",
    "def train_func(sub_train_,model,optimizer,scheduler,criterion):\n",
    "\n",
    "    train_loss = 0\n",
    "    train_acc = 0\n",
    "    data = DataLoader(sub_train_, batch_size=BATCH_SIZE, shuffle=True,\n",
    "                      collate_fn=generate_batch)\n",
    "    \n",
    "    for i, (text, offsets, cls) in enumerate(data):\n",
    "        optimizer.zero_grad()\n",
    "        text, offsets, cls = text.to(device), offsets.to(device), cls.to(device)\n",
    "        output = model(text, offsets)\n",
    "        loss = criterion(output, cls)\n",
    "        train_loss += loss.item()\n",
    "        loss.backward()\n",
    "        optimizer.step()\n",
    "        train_acc += (output.argmax(1) == cls).sum().item()\n",
    "    if(scheduler != None):\n",
    "        scheduler.step()\n",
    "    \n",
    "    return train_loss / len(sub_train_), train_acc / len(sub_train_)\n",
    "\n",
    "def test(data_,model,optimizer,criterion):\n",
    "    loss = 0\n",
    "    acc = 0\n",
    "    data = DataLoader(data_, batch_size=BATCH_SIZE, collate_fn=generate_batch)\n",
    "    for text, offsets, cls in data:\n",
    "        text, offsets, cls = text.to(device), offsets.to(device), cls.to(device)\n",
    "        with torch.no_grad():\n",
    "            output = model(text, offsets)\n",
    "            loss = criterion(output, cls)\n",
    "            loss += loss.item()\n",
    "            acc += (output.argmax(1) == cls).sum().item()\n",
    "\n",
    "    return loss / len(data_), acc / len(data_)"
   ]
  },
  {
   "cell_type": "markdown",
   "metadata": {
    "colab_type": "text",
    "id": "APSZL94SwfVt"
   },
   "source": [
    "Split the dataset and run the model\n",
    "-----------------------------------\n",
    "\n",
    "Since the original AG_NEWS has no valid dataset, we split the training\n",
    "dataset into train/valid sets with a split ratio of 0.95 (train) and\n",
    "0.05 (valid). \n",
    "\n",
    "CrossEntropyLoss criterion combines nn.LogSoftmax() and nn.NLLLoss() in a single class.\n",
    "It is useful when training a classification problem with C classes."
   ]
  },
  {
   "cell_type": "code",
   "execution_count": 6,
   "metadata": {
    "colab": {
     "base_uri": "https://localhost:8080/",
     "height": 273
    },
    "colab_type": "code",
    "id": "K511gXl6wfVu",
    "outputId": "aaa2f13e-11ff-424b-a1e4-2d4ad6b63961",
    "scrolled": true
   },
   "outputs": [],
   "source": [
    "def run_optimizer(model,optimizer,name_file = \"new\",scheduler=None,N_EPOCHS=10):\n",
    "    \n",
    "    min_valid_loss = float('inf')\n",
    "    \n",
    "    criterion = torch.nn.CrossEntropyLoss().to(device)\n",
    "\n",
    "    train_len = int(len(train_dataset) * 0.95)\n",
    "    sub_train_, sub_valid_ = random_split(train_dataset, [train_len, len(train_dataset) - train_len])\n",
    "\n",
    "    train_loss_tab = []\n",
    "    train_acc_tab = []\n",
    "    valid_loss_tab = []\n",
    "    valid_acc_tab = []\n",
    "\n",
    "    for epoch in range(N_EPOCHS):\n",
    "\n",
    "        start_time = time.time()\n",
    "        train_loss, train_acc = train_func(sub_train_,model,optimizer,scheduler,criterion)\n",
    "        valid_loss, valid_acc = test(sub_valid_,model,optimizer,criterion)\n",
    "\n",
    "        secs = int(time.time() - start_time)\n",
    "        mins = secs / 60\n",
    "        secs = secs % 60\n",
    "\n",
    "        print('Epoch: %d' %(epoch + 1), \" | time in %d minutes, %d seconds\" %(mins, secs))\n",
    "        print(f'\\tLoss: {train_loss:.4f}(train)\\t|\\tAcc: {train_acc * 100:.1f}%(train)')\n",
    "        print(f'\\tLoss: {valid_loss:.4f}(valid)\\t|\\tAcc: {valid_acc * 100:.1f}%(valid)')\n",
    "        \n",
    "        train_loss_tab.append(train_loss)\n",
    "        train_acc_tab.append(train_acc)\n",
    "        valid_loss_tab.append(float(valid_loss))\n",
    "        valid_acc_tab.append(valid_acc)\n",
    "\n",
    "    \n",
    "    dict_data = {\n",
    "        'train_loss_tab':train_loss_tab,\n",
    "        'train_acc_tab':train_acc_tab,\n",
    "        'valid_loss_tab':valid_loss_tab,\n",
    "        'valid_acc_tab':valid_acc_tab\n",
    "    }\n",
    "\n",
    "    df = pd.DataFrame(dict_data, columns= dict_data.keys())\n",
    "    print(df)\n",
    "    \n",
    "    path = \"D:\\\\dossier important 2020\\\\swa_gaussian-master\\\\optimizer_results\\\\\" + name_file + \".csv\"\n",
    "    \n",
    "    df.to_csv (path, index = False, header=True)\n",
    "        \n",
    "    return train_loss_tab,train_acc_tab, valid_loss_tab, valid_acc_tab"
   ]
  },
  {
   "cell_type": "markdown",
   "metadata": {},
   "source": [
    "### Stochastic Gradient Descent"
   ]
  },
  {
   "cell_type": "markdown",
   "metadata": {},
   "source": [
    "SGD implements stochastic gradient descent method as optimizer. The initial\n",
    "learning rate is set to 4.0. \n",
    "\n",
    "StepLR is used here to adjust the learning rate through epochs."
   ]
  },
  {
   "cell_type": "code",
   "execution_count": 7,
   "metadata": {
    "scrolled": true
   },
   "outputs": [
    {
     "name": "stdout",
     "output_type": "stream",
     "text": [
      "Epoch: 1  | time in 2 minutes, 16 seconds\n",
      "\tLoss: 0.0704(train)\t|\tAcc: 51.5%(train)\n",
      "\tLoss: 0.0001(valid)\t|\tAcc: 55.6%(valid)\n",
      "Epoch: 2  | time in 2 minutes, 14 seconds\n",
      "\tLoss: 0.0653(train)\t|\tAcc: 55.1%(train)\n",
      "\tLoss: 0.0001(valid)\t|\tAcc: 52.4%(valid)\n",
      "Epoch: 3  | time in 2 minutes, 15 seconds\n",
      "\tLoss: 0.0635(train)\t|\tAcc: 56.4%(train)\n",
      "\tLoss: 0.0000(valid)\t|\tAcc: 57.5%(valid)\n",
      "Epoch: 4  | time in 2 minutes, 14 seconds\n",
      "\tLoss: 0.0624(train)\t|\tAcc: 57.2%(train)\n",
      "\tLoss: 0.0000(valid)\t|\tAcc: 58.0%(valid)\n",
      "Epoch: 5  | time in 2 minutes, 16 seconds\n",
      "\tLoss: 0.0613(train)\t|\tAcc: 58.1%(train)\n",
      "\tLoss: 0.0000(valid)\t|\tAcc: 57.0%(valid)\n",
      "Epoch: 6  | time in 2 minutes, 13 seconds\n",
      "\tLoss: 0.0606(train)\t|\tAcc: 58.6%(train)\n",
      "\tLoss: 0.0000(valid)\t|\tAcc: 56.2%(valid)\n",
      "Epoch: 7  | time in 2 minutes, 9 seconds\n",
      "\tLoss: 0.0599(train)\t|\tAcc: 59.2%(train)\n",
      "\tLoss: 0.0000(valid)\t|\tAcc: 58.6%(valid)\n",
      "Epoch: 8  | time in 2 minutes, 7 seconds\n",
      "\tLoss: 0.0593(train)\t|\tAcc: 59.6%(train)\n",
      "\tLoss: 0.0000(valid)\t|\tAcc: 58.2%(valid)\n",
      "Epoch: 9  | time in 2 minutes, 13 seconds\n",
      "\tLoss: 0.0588(train)\t|\tAcc: 60.0%(train)\n",
      "\tLoss: 0.0000(valid)\t|\tAcc: 58.7%(valid)\n",
      "Epoch: 10  | time in 2 minutes, 13 seconds\n",
      "\tLoss: 0.0584(train)\t|\tAcc: 60.4%(train)\n",
      "\tLoss: 0.0000(valid)\t|\tAcc: 59.6%(valid)\n",
      "   train_loss_tab  train_acc_tab  valid_loss_tab  valid_acc_tab\n",
      "0        0.070395       0.515066        0.000052       0.556400\n",
      "1        0.065341       0.550564        0.000063       0.524369\n",
      "2        0.063541       0.563572        0.000028       0.575354\n",
      "3        0.062352       0.572350        0.000045       0.579631\n",
      "4        0.061346       0.580594        0.000028       0.570462\n",
      "5        0.060604       0.586147        0.000049       0.562000\n",
      "6        0.059879       0.591514        0.000047       0.586154\n",
      "7        0.059278       0.596429        0.000034       0.581662\n",
      "8        0.058837       0.600154        0.000028       0.587200\n",
      "9        0.058370       0.604094        0.000036       0.596369\n"
     ]
    },
    {
     "ename": "ValueError",
     "evalue": "not enough values to unpack (expected 6, got 4)",
     "output_type": "error",
     "traceback": [
      "\u001b[1;31m---------------------------------------------------------------------------\u001b[0m",
      "\u001b[1;31mValueError\u001b[0m                                Traceback (most recent call last)",
      "\u001b[1;32m<ipython-input-7-c6173882e4bc>\u001b[0m in \u001b[0;36m<module>\u001b[1;34m\u001b[0m\n\u001b[0;32m      3\u001b[0m \u001b[0moptimizer_SGD\u001b[0m \u001b[1;33m=\u001b[0m \u001b[0mtorch\u001b[0m\u001b[1;33m.\u001b[0m\u001b[0moptim\u001b[0m\u001b[1;33m.\u001b[0m\u001b[0mSGD\u001b[0m\u001b[1;33m(\u001b[0m\u001b[0mmodel_SGD\u001b[0m\u001b[1;33m.\u001b[0m\u001b[0mparameters\u001b[0m\u001b[1;33m(\u001b[0m\u001b[1;33m)\u001b[0m\u001b[1;33m,\u001b[0m \u001b[0mlr\u001b[0m\u001b[1;33m=\u001b[0m\u001b[1;36m4.0\u001b[0m\u001b[1;33m)\u001b[0m\u001b[1;33m\u001b[0m\u001b[1;33m\u001b[0m\u001b[0m\n\u001b[0;32m      4\u001b[0m \u001b[0mscheduler\u001b[0m \u001b[1;33m=\u001b[0m \u001b[0mtorch\u001b[0m\u001b[1;33m.\u001b[0m\u001b[0moptim\u001b[0m\u001b[1;33m.\u001b[0m\u001b[0mlr_scheduler\u001b[0m\u001b[1;33m.\u001b[0m\u001b[0mStepLR\u001b[0m\u001b[1;33m(\u001b[0m\u001b[0moptimizer_SGD\u001b[0m\u001b[1;33m,\u001b[0m \u001b[1;36m1\u001b[0m\u001b[1;33m,\u001b[0m \u001b[0mgamma\u001b[0m\u001b[1;33m=\u001b[0m\u001b[1;36m0.9\u001b[0m\u001b[1;33m)\u001b[0m\u001b[1;33m\u001b[0m\u001b[1;33m\u001b[0m\u001b[0m\n\u001b[1;32m----> 5\u001b[1;33m \u001b[0mtrain_loss_tab\u001b[0m\u001b[1;33m,\u001b[0m \u001b[0mtrain_acc_tab\u001b[0m\u001b[1;33m,\u001b[0m \u001b[0mvalid_loss_tab\u001b[0m\u001b[1;33m,\u001b[0m \u001b[0mvalid_acc_tab\u001b[0m\u001b[1;33m,\u001b[0m \u001b[0mtest_loss\u001b[0m\u001b[1;33m,\u001b[0m \u001b[0mtest_acc\u001b[0m \u001b[1;33m=\u001b[0m \u001b[0mrun_optimizer\u001b[0m\u001b[1;33m(\u001b[0m\u001b[0mmodel_SGD\u001b[0m\u001b[1;33m,\u001b[0m\u001b[0moptimizer_SGD\u001b[0m\u001b[1;33m,\u001b[0m\u001b[0mname_file\u001b[0m\u001b[1;33m,\u001b[0m\u001b[0mscheduler\u001b[0m\u001b[1;33m)\u001b[0m\u001b[1;33m\u001b[0m\u001b[1;33m\u001b[0m\u001b[0m\n\u001b[0m",
      "\u001b[1;31mValueError\u001b[0m: not enough values to unpack (expected 6, got 4)"
     ]
    }
   ],
   "source": [
    "name_file = \"SGD_YelpReviewFull\"\n",
    "model_SGD = TextSentiment(VOCAB_SIZE, EMBED_DIM, NUN_CLASS).to(device)\n",
    "optimizer_SGD = torch.optim.SGD(model_SGD.parameters(), lr=4.0)\n",
    "scheduler = torch.optim.lr_scheduler.StepLR(optimizer_SGD, 1, gamma=0.9)\n",
    "train_loss_tab, train_acc_tab, valid_loss_tab, valid_acc_tab= run_optimizer(model_SGD,optimizer_SGD,name_file,scheduler)"
   ]
  },
  {
   "cell_type": "markdown",
   "metadata": {},
   "source": [
    "### Adagrad"
   ]
  },
  {
   "cell_type": "code",
   "execution_count": 8,
   "metadata": {
    "scrolled": false
   },
   "outputs": [
    {
     "name": "stdout",
     "output_type": "stream",
     "text": [
      "Epoch: 1  | time in 3 minutes, 51 seconds\n",
      "\tLoss: 0.0691(train)\t|\tAcc: 55.7%(train)\n",
      "\tLoss: 0.0000(valid)\t|\tAcc: 58.2%(valid)\n",
      "Epoch: 2  | time in 3 minutes, 42 seconds\n",
      "\tLoss: 0.0543(train)\t|\tAcc: 64.8%(train)\n",
      "\tLoss: 0.0000(valid)\t|\tAcc: 58.3%(valid)\n",
      "Epoch: 3  | time in 3 minutes, 34 seconds\n",
      "\tLoss: 0.0483(train)\t|\tAcc: 69.9%(train)\n",
      "\tLoss: 0.0000(valid)\t|\tAcc: 57.3%(valid)\n",
      "Epoch: 4  | time in 3 minutes, 33 seconds\n",
      "\tLoss: 0.0434(train)\t|\tAcc: 73.7%(train)\n",
      "\tLoss: 0.0000(valid)\t|\tAcc: 56.4%(valid)\n",
      "Epoch: 5  | time in 3 minutes, 34 seconds\n",
      "\tLoss: 0.0399(train)\t|\tAcc: 76.3%(train)\n",
      "\tLoss: 0.0000(valid)\t|\tAcc: 54.8%(valid)\n",
      "Epoch: 6  | time in 3 minutes, 35 seconds\n",
      "\tLoss: 0.0373(train)\t|\tAcc: 78.0%(train)\n",
      "\tLoss: 0.0000(valid)\t|\tAcc: 54.6%(valid)\n",
      "Epoch: 7  | time in 3 minutes, 39 seconds\n",
      "\tLoss: 0.0354(train)\t|\tAcc: 79.2%(train)\n",
      "\tLoss: 0.0001(valid)\t|\tAcc: 54.2%(valid)\n",
      "Epoch: 8  | time in 3 minutes, 37 seconds\n",
      "\tLoss: 0.0339(train)\t|\tAcc: 80.1%(train)\n",
      "\tLoss: 0.0000(valid)\t|\tAcc: 53.4%(valid)\n",
      "Epoch: 9  | time in 3 minutes, 34 seconds\n",
      "\tLoss: 0.0327(train)\t|\tAcc: 80.9%(train)\n",
      "\tLoss: 0.0001(valid)\t|\tAcc: 53.5%(valid)\n",
      "Epoch: 10  | time in 3 minutes, 40 seconds\n",
      "\tLoss: 0.0317(train)\t|\tAcc: 81.4%(train)\n",
      "\tLoss: 0.0000(valid)\t|\tAcc: 53.1%(valid)\n",
      "   train_loss_tab  train_acc_tab  valid_loss_tab  valid_acc_tab\n",
      "0        0.069132       0.557375        0.000033       0.581723\n",
      "1        0.054335       0.648173        0.000035       0.583169\n",
      "2        0.048268       0.699056        0.000031       0.573385\n",
      "3        0.043401       0.736910        0.000044       0.564400\n",
      "4        0.039856       0.762993        0.000042       0.548431\n",
      "5        0.037254       0.780168        0.000042       0.546246\n",
      "6        0.035364       0.792217        0.000051       0.541569\n",
      "7        0.033881       0.801114        0.000044       0.534277\n",
      "8        0.032701       0.808513        0.000058       0.535262\n",
      "9        0.031744       0.813867        0.000049       0.531169\n"
     ]
    }
   ],
   "source": [
    "name_file = \"Adagrad_YelpReviewFull\"\n",
    "model_Adagrad = TextSentiment(VOCAB_SIZE, EMBED_DIM, NUN_CLASS).to(device)\n",
    "optimizer_Adagrad = torch.optim.Adagrad(model_Adagrad.parameters(), lr=4.0)\n",
    "train_loss_tab, train_acc_tab, valid_loss_tab, valid_acc_tab = run_optimizer(model_Adagrad,optimizer_Adagrad,name_file)"
   ]
  },
  {
   "cell_type": "markdown",
   "metadata": {},
   "source": [
    "### CosineAnnealingLR"
   ]
  },
  {
   "cell_type": "code",
   "execution_count": 9,
   "metadata": {},
   "outputs": [
    {
     "name": "stdout",
     "output_type": "stream",
     "text": [
      "Epoch: 1  | time in 2 minutes, 14 seconds\n",
      "\tLoss: 0.0704(train)\t|\tAcc: 51.5%(train)\n",
      "\tLoss: 0.0001(valid)\t|\tAcc: 53.4%(valid)\n",
      "Epoch: 2  | time in 2 minutes, 15 seconds\n",
      "\tLoss: 0.0661(train)\t|\tAcc: 54.6%(train)\n",
      "\tLoss: 0.0001(valid)\t|\tAcc: 56.2%(valid)\n",
      "Epoch: 3  | time in 2 minutes, 11 seconds\n",
      "\tLoss: 0.0643(train)\t|\tAcc: 55.9%(train)\n",
      "\tLoss: 0.0001(valid)\t|\tAcc: 57.4%(valid)\n",
      "Epoch: 4  | time in 2 minutes, 11 seconds\n",
      "\tLoss: 0.0628(train)\t|\tAcc: 57.0%(train)\n",
      "\tLoss: 0.0001(valid)\t|\tAcc: 57.7%(valid)\n",
      "Epoch: 5  | time in 2 minutes, 8 seconds\n",
      "\tLoss: 0.0613(train)\t|\tAcc: 58.1%(train)\n",
      "\tLoss: 0.0001(valid)\t|\tAcc: 58.2%(valid)\n",
      "Epoch: 6  | time in 2 minutes, 7 seconds\n",
      "\tLoss: 0.0599(train)\t|\tAcc: 59.3%(train)\n",
      "\tLoss: 0.0001(valid)\t|\tAcc: 59.3%(valid)\n",
      "Epoch: 7  | time in 2 minutes, 7 seconds\n",
      "\tLoss: 0.0586(train)\t|\tAcc: 60.3%(train)\n",
      "\tLoss: 0.0001(valid)\t|\tAcc: 56.5%(valid)\n",
      "Epoch: 8  | time in 2 minutes, 13 seconds\n",
      "\tLoss: 0.0576(train)\t|\tAcc: 61.2%(train)\n",
      "\tLoss: 0.0001(valid)\t|\tAcc: 57.1%(valid)\n",
      "Epoch: 9  | time in 2 minutes, 8 seconds\n",
      "\tLoss: 0.0569(train)\t|\tAcc: 61.8%(train)\n",
      "\tLoss: 0.0001(valid)\t|\tAcc: 60.5%(valid)\n",
      "Epoch: 10  | time in 2 minutes, 14 seconds\n",
      "\tLoss: 0.0564(train)\t|\tAcc: 62.3%(train)\n",
      "\tLoss: 0.0001(valid)\t|\tAcc: 61.0%(valid)\n",
      "   train_loss_tab  train_acc_tab  valid_loss_tab  valid_acc_tab\n",
      "0        0.070394       0.514547        0.000077       0.534400\n",
      "1        0.066129       0.546057        0.000095       0.561569\n",
      "2        0.064337       0.558704        0.000067       0.574000\n",
      "3        0.062754       0.569900        0.000091       0.576523\n",
      "4        0.061260       0.580785        0.000065       0.581723\n",
      "5        0.059854       0.592766        0.000077       0.592954\n",
      "6        0.058634       0.602515        0.000083       0.565200\n",
      "7        0.057633       0.611734        0.000089       0.571015\n",
      "8        0.056871       0.618254        0.000073       0.605477\n",
      "9        0.056379       0.622939        0.000077       0.609662\n"
     ]
    }
   ],
   "source": [
    "name_file = \"SGD_scheduler_COSINE_YelpReviewFull\"\n",
    "model_SGD = TextSentiment(VOCAB_SIZE, EMBED_DIM, NUN_CLASS).to(device)\n",
    "\n",
    "optimizer_SGD = torch.optim.SGD(model_SGD.parameters(), lr=4.0)\n",
    "\n",
    "scheduler_COSINE = torch.optim.lr_scheduler.CosineAnnealingLR(optimizer_SGD, T_max=10)\n",
    "\n",
    "train_loss_tab, train_acc_tab, valid_loss_tab, valid_acc_tab = run_optimizer(model_SGD,optimizer_SGD,name_file,scheduler_COSINE)"
   ]
  },
  {
   "cell_type": "markdown",
   "metadata": {},
   "source": [
    "## SWA"
   ]
  },
  {
   "cell_type": "code",
   "execution_count": 10,
   "metadata": {},
   "outputs": [
    {
     "name": "stdout",
     "output_type": "stream",
     "text": [
      "Epoch: 1  | time in 3 minutes, 4 seconds\n",
      "\tLoss: 0.0855(train)\t|\tAcc: 42.1%(train)\n",
      "\tLoss: 0.0001(valid)\t|\tAcc: 49.9%(valid)\n",
      "Epoch: 2  | time in 3 minutes, 18 seconds\n",
      "\tLoss: 0.0715(train)\t|\tAcc: 52.1%(train)\n",
      "\tLoss: 0.0001(valid)\t|\tAcc: 54.7%(valid)\n",
      "Epoch: 3  | time in 3 minutes, 7 seconds\n",
      "\tLoss: 0.0674(train)\t|\tAcc: 54.8%(train)\n",
      "\tLoss: 0.0001(valid)\t|\tAcc: 56.5%(valid)\n",
      "Epoch: 4  | time in 3 minutes, 10 seconds\n",
      "\tLoss: 0.0653(train)\t|\tAcc: 56.2%(train)\n",
      "\tLoss: 0.0001(valid)\t|\tAcc: 57.4%(valid)\n",
      "Epoch: 5  | time in 3 minutes, 7 seconds\n",
      "\tLoss: 0.0641(train)\t|\tAcc: 57.1%(train)\n",
      "\tLoss: 0.0001(valid)\t|\tAcc: 57.8%(valid)\n",
      "Epoch: 6  | time in 3 minutes, 4 seconds\n",
      "\tLoss: 0.0632(train)\t|\tAcc: 57.7%(train)\n",
      "\tLoss: 0.0001(valid)\t|\tAcc: 58.4%(valid)\n",
      "Epoch: 7  | time in 3 minutes, 6 seconds\n",
      "\tLoss: 0.0625(train)\t|\tAcc: 58.1%(train)\n",
      "\tLoss: 0.0001(valid)\t|\tAcc: 58.8%(valid)\n",
      "Epoch: 8  | time in 3 minutes, 4 seconds\n",
      "\tLoss: 0.0620(train)\t|\tAcc: 58.4%(train)\n",
      "\tLoss: 0.0001(valid)\t|\tAcc: 58.9%(valid)\n",
      "Epoch: 9  | time in 3 minutes, 3 seconds\n",
      "\tLoss: 0.0616(train)\t|\tAcc: 58.7%(train)\n",
      "\tLoss: 0.0000(valid)\t|\tAcc: 59.2%(valid)\n",
      "Epoch: 10  | time in 3 minutes, 2 seconds\n",
      "\tLoss: 0.0612(train)\t|\tAcc: 59.0%(train)\n",
      "\tLoss: 0.0001(valid)\t|\tAcc: 59.3%(valid)\n",
      "   train_loss_tab  train_acc_tab  valid_loss_tab  valid_acc_tab\n",
      "0        0.085530       0.420717        0.000081       0.498585\n",
      "1        0.071545       0.521215        0.000068       0.547446\n",
      "2        0.067357       0.548251        0.000060       0.564615\n",
      "3        0.065304       0.562186        0.000058       0.573600\n",
      "4        0.064064       0.570781        0.000056       0.578277\n",
      "5        0.063195       0.576578        0.000053       0.583846\n",
      "6        0.062541       0.580881        0.000053       0.587662\n",
      "7        0.062029       0.584460        0.000052       0.589415\n",
      "8        0.061602       0.587294        0.000050       0.591877\n",
      "9        0.061241       0.589684        0.000050       0.592831\n"
     ]
    }
   ],
   "source": [
    "name_file = \"SWA_YelpReviewFull\"\n",
    "model_SWA = TextSentiment(VOCAB_SIZE, EMBED_DIM, NUN_CLASS).to(device)\n",
    "\n",
    "base_opt = torch.optim.SGD(model_SWA.parameters(), lr=4.0)\n",
    "optimizer_SWA = SWA(base_opt, swa_start=10, swa_freq=5, swa_lr=0.05)\n",
    "\n",
    "train_loss_tab, train_acc_tab, valid_loss_tab, valid_acc_tab = run_optimizer(model_SWA,optimizer_SWA,name_file)"
   ]
  }
 ],
 "metadata": {
  "accelerator": "GPU",
  "colab": {
   "name": "Copie de text_sentiment_ngrams_tutorial.ipynb",
   "provenance": []
  },
  "kernelspec": {
   "display_name": "Python 3",
   "language": "python",
   "name": "python3"
  },
  "language_info": {
   "codemirror_mode": {
    "name": "ipython",
    "version": 3
   },
   "file_extension": ".py",
   "mimetype": "text/x-python",
   "name": "python",
   "nbconvert_exporter": "python",
   "pygments_lexer": "ipython3",
   "version": "3.6.7"
  }
 },
 "nbformat": 4,
 "nbformat_minor": 1
}
